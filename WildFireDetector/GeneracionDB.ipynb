{
 "cells": [
  {
   "cell_type": "code",
   "execution_count": 1,
   "id": "0e38ca32-7012-42ab-a76d-7fc5d67333e8",
   "metadata": {},
   "outputs": [],
   "source": [
    "#Extracción de caracteristicas de una imagen (Sacar RGB en un arreglo numpy)\n",
    "\n",
    "from PIL import Image\n",
    "import numpy\n",
    "def get_image(image_path):\n",
    "    image = Image.open(image_path, \"r\")\n",
    "    width, height = image.size\n",
    "    pixel_values = list(image.getdata())\n",
    "    if image.mode == \"RGB\":\n",
    "        channels = 3\n",
    "    elif image.mode == \"L\":\n",
    "        channels = 1\n",
    "    else:\n",
    "        print(\"Unknown mode: %s\" % image.mode)\n",
    "        return None\n",
    "    pixel_values = numpy.array(pixel_values)\n",
    "    return pixel_values"
   ]
  },
  {
   "cell_type": "code",
   "execution_count": 4,
   "id": "5ba0a4a5-d3d3-4a1c-8c89-7f01f36b8c45",
   "metadata": {},
   "outputs": [],
   "source": [
    "from PIL import Image\n",
    "import os.path, sys\n",
    "\n",
    "path =  r'C:\\Users\\subce\\Downloads\\Imagenes\\Fuego'\n",
    "dirs = os.listdir(path)\n",
    "\n",
    "def resize():\n",
    "    for item in dirs:\n",
    "        fullpath = os.path.join(path,item)         #corrected\n",
    "        if os.path.isfile(fullpath):\n",
    "            im = Image.open(fullpath)\n",
    "            f, e = os.path.splitext(fullpath)\n",
    "            imRS = im.resize((60, 60)) #corrected\n",
    "            imRS.save(f + 'Cropped.bmp', \"BMP\", quality=100)\n",
    "\n",
    "resize()"
   ]
  },
  {
   "cell_type": "code",
   "execution_count": 9,
   "id": "301ad681-6fdc-4b7d-bd53-e04041c8c39b",
   "metadata": {},
   "outputs": [
    {
     "name": "stdout",
     "output_type": "stream",
     "text": [
      "0\n",
      "1\n",
      "2\n",
      "3\n",
      "4\n",
      "5\n",
      "6\n",
      "7\n",
      "8\n",
      "9\n"
     ]
    }
   ],
   "source": [
    "#Sacar el meta dato de todas las imagenes en la carpeta (130 elementos)\n",
    "import os\n",
    "your_path = r'C:\\Users\\subce\\Downloads\\Imagenes\\Humo - copia'\n",
    "imagenes = []\n",
    "files = os.listdir(your_path)\n",
    "current = 0\n",
    "for file in files:\n",
    "    if os.path.isfile(os.path.join(your_path, file)):\n",
    "        f = open(os.path.join(your_path, file),'r', encoding = \"ISO-8859-1\")\n",
    "        imagenes.append(get_image(os.path.join(your_path, file)))\n",
    "        print(current)\n",
    "        current = current + 1\n",
    "        f.close()"
   ]
  },
  {
   "cell_type": "code",
   "execution_count": 10,
   "id": "a983eb49-00aa-410d-936d-4655e7b2ffcf",
   "metadata": {},
   "outputs": [
    {
     "name": "stdout",
     "output_type": "stream",
     "text": [
      "0\n",
      "1\n",
      "2\n",
      "3\n",
      "4\n",
      "5\n",
      "6\n",
      "7\n",
      "8\n",
      "9\n"
     ]
    }
   ],
   "source": [
    "import numpy as np\n",
    "from scipy import stats\n",
    "from IPython.display import clear_output \n",
    "\n",
    "with open('Humo.txt', 'w') as f:\n",
    "    f.write('')\n",
    "\n",
    "linea = ''\n",
    "for z in range(0, len(imagenes)):\n",
    "    print(z)\n",
    "    for x in range(0, len(imagenes[z])):\n",
    "        linea = ''\n",
    "        linea += str(imagenes[z][x][0]) + ';' + str(imagenes[z][x][1]) + ';' + str(imagenes[z][x][2])\n",
    "        with open('Humo.txt', 'a') as f:\n",
    "            f.write(linea)\n",
    "            f.write('\\n')\n",
    "\n",
    "    "
   ]
  },
  {
   "cell_type": "code",
   "execution_count": null,
   "id": "918ad4f0-fb98-43cf-92cd-5aaab6a61bec",
   "metadata": {},
   "outputs": [],
   "source": []
  }
 ],
 "metadata": {
  "kernelspec": {
   "display_name": "Python 3",
   "language": "python",
   "name": "python3"
  },
  "language_info": {
   "codemirror_mode": {
    "name": "ipython",
    "version": 3
   },
   "file_extension": ".py",
   "mimetype": "text/x-python",
   "name": "python",
   "nbconvert_exporter": "python",
   "pygments_lexer": "ipython3",
   "version": "3.8.8"
  }
 },
 "nbformat": 4,
 "nbformat_minor": 5
}
