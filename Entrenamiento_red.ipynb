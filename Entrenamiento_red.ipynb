{
 "cells": [
  {
   "cell_type": "code",
   "execution_count": 7,
   "id": "6c582247-64f0-42f4-9dc6-b8b9dd4d84d6",
   "metadata": {},
   "outputs": [
    {
     "name": "stdout",
     "output_type": "stream",
     "text": [
      "Best parameters found:\n",
      " {'activation': 'tanh', 'alpha': 0.0001, 'solver': 'adam'}\n",
      "0.454 (+/-0.008) for {'activation': 'tanh', 'alpha': 0.0001, 'solver': 'sgd'}\n",
      "0.586 (+/-0.041) for {'activation': 'tanh', 'alpha': 0.0001, 'solver': 'adam'}\n",
      "0.457 (+/-0.013) for {'activation': 'tanh', 'alpha': 0.05, 'solver': 'sgd'}\n",
      "0.498 (+/-0.053) for {'activation': 'tanh', 'alpha': 0.05, 'solver': 'adam'}\n",
      "0.462 (+/-0.011) for {'activation': 'relu', 'alpha': 0.0001, 'solver': 'sgd'}\n",
      "0.544 (+/-0.053) for {'activation': 'relu', 'alpha': 0.0001, 'solver': 'adam'}\n",
      "0.460 (+/-0.019) for {'activation': 'relu', 'alpha': 0.05, 'solver': 'sgd'}\n",
      "0.511 (+/-0.072) for {'activation': 'relu', 'alpha': 0.05, 'solver': 'adam'}\n",
      "0.437 (+/-0.018) for {'activation': 'logistic', 'alpha': 0.0001, 'solver': 'sgd'}\n",
      "0.437 (+/-0.018) for {'activation': 'logistic', 'alpha': 0.0001, 'solver': 'adam'}\n",
      "0.437 (+/-0.018) for {'activation': 'logistic', 'alpha': 0.05, 'solver': 'sgd'}\n",
      "0.437 (+/-0.018) for {'activation': 'logistic', 'alpha': 0.05, 'solver': 'adam'}\n",
      "0.458 (+/-0.007) for {'activation': 'identity', 'alpha': 0.0001, 'solver': 'sgd'}\n",
      "0.454 (+/-0.010) for {'activation': 'identity', 'alpha': 0.0001, 'solver': 'adam'}\n",
      "0.457 (+/-0.007) for {'activation': 'identity', 'alpha': 0.05, 'solver': 'sgd'}\n",
      "0.453 (+/-0.009) for {'activation': 'identity', 'alpha': 0.05, 'solver': 'adam'}\n"
     ]
    }
   ],
   "source": [
    "import pandas as pd\n",
    "from sklearn.model_selection import train_test_split\n",
    "from sklearn.neural_network import MLPClassifier\n",
    "from sklearn.model_selection import KFold\n",
    "from sklearn.model_selection import cross_val_score\n",
    "from sklearn.model_selection import GridSearchCV\n",
    "from sklearn import preprocessing\n",
    "import numpy as np\n",
    "\n",
    "\n",
    "file_path = r'C:\\Users\\subce\\Downloads\\db_sq.txt'\n",
    "\n",
    "data = pd.read_csv(filepath_or_buffer = file_path, sep = \";\")\n",
    "\n",
    "#Aqui se particiona nuestros datos de entrenamiento y de testeo, cabe destacar que nuestras variables asociadas a Y son los clasificadores\n",
    "X_train, X_test, y_train, y_test = train_test_split(data.loc[:, data.columns != \"clas\"], data.loc[:, data.columns == \"clas\"], test_size = 0.25)\n",
    "\n",
    "#Convertimos a arreglo para trabajar \n",
    "X_train = np.asarray(X_train)\n",
    "y_train = np.asarray(y_train)\n",
    "\n",
    "\n",
    "#Normalizacion de los datos\n",
    "X_normalized = preprocessing.normalize(X_train)\n",
    "\n",
    "# Definimos el numero de particiones, se eligió 3\n",
    "kf = KFold(n_splits=3)\n",
    "\n",
    "#Rango de neuronas util [3, 39]\n",
    "#Conforme a los experimentos: Top 15: Numero de neuronas: 27, 39, 35, 26, 32, 34, 37, 30, 25, 38, 31, 33, 36, 24, 28\n",
    "\n",
    "\n",
    "\n",
    "#Esta variable es utilizada para realizar una busqueda de los mejores parametros para nuestro algoritmo, sus contenidos representan los parametros de nuestro algoritmo clasificador\n",
    "parameter_space = {\n",
    "      'activation': ['tanh', 'relu', 'logistic', 'identity'],\n",
    "      'solver': ['sgd', 'adam'],\n",
    "      'alpha': [0.0001, 0.05],\n",
    "}\n",
    "\n",
    "\n",
    "#Definimos nuestro clasificador MultiLayerPerceptron \n",
    "mlp = MLPClassifier(random_state=1, max_iter=1500, learning_rate_init= 0.0071, hidden_layer_sizes= (35, 35, 35, 35, 35))\n",
    "\n",
    "#GridSearchCV es el responsable de realizar los experimentos para encontrar los mejores hyperparametros\n",
    "clf = GridSearchCV(mlp, parameter_space, n_jobs=-1, cv=kf)\n",
    "clf.fit(X_normalized, y_train.ravel())\n",
    "\n",
    "\n",
    "# Lineas para imprimir los mejores resultados, y el mejor resultado. \n",
    "print('Best parameters found:\\n', clf.best_params_)\n",
    "\n",
    "# All results\n",
    "means = clf.cv_results_['mean_test_score']\n",
    "stds = clf.cv_results_['std_test_score']\n",
    "for mean, std, params in zip(means, stds, clf.cv_results_['params']):\n",
    "    print(\"%0.3f (+/-%0.03f) for %r\" % (mean, std * 2, params))\n",
    "\n",
    "\n",
    "\n",
    "\n"
   ]
  },
  {
   "cell_type": "code",
   "execution_count": null,
   "id": "c0eda594-3742-432c-8b08-679b348c1dc0",
   "metadata": {},
   "outputs": [],
   "source": []
  }
 ],
 "metadata": {
  "kernelspec": {
   "display_name": "Python 3 (ipykernel)",
   "language": "python",
   "name": "python3"
  },
  "language_info": {
   "codemirror_mode": {
    "name": "ipython",
    "version": 3
   },
   "file_extension": ".py",
   "mimetype": "text/x-python",
   "name": "python",
   "nbconvert_exporter": "python",
   "pygments_lexer": "ipython3",
   "version": "3.9.12"
  }
 },
 "nbformat": 4,
 "nbformat_minor": 5
}
